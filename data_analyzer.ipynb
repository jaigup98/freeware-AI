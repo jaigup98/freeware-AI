{
 "cells": [
  {
   "cell_type": "code",
   "execution_count": null,
   "metadata": {},
   "outputs": [],
   "source": [
    "import pandas as pd \n",
    "import numpy as np"
   ]
  },
  {
   "cell_type": "code",
   "execution_count": null,
   "metadata": {},
   "outputs": [],
   "source": [
    "\n",
    "# Load the dataset\n",
    "user_dataset = pd.read_csv(\"examplary_datasets/Customer_support_data.csv\")\n",
    "user_dataset.columns = user_dataset.columns.str.replace(' ', '_')\n",
    "\n",
    "# Missing Values\n",
    "missing_values = user_dataset.isnull().sum()\n",
    "\n",
    "# Unique Values in Each Column\n",
    "unique_values = {column: user_dataset[column].nunique() for column in user_dataset.columns}\n",
    "\n",
    "# Non-Null Percentage\n",
    "non_null_percentages = (user_dataset.count() / len(user_dataset)) * 100\n",
    "\n",
    "# Create a dictionary to store all the column information\n",
    "info_dict = {\n",
    "    'Missing Values': missing_values,\n",
    "    'Unique Values': pd.Series(unique_values),\n",
    "    'Non-Null Count': user_dataset.count(),\n",
    "    'Non-Null Percentage': non_null_percentages,\n",
    "    'Dtype': user_dataset.dtypes\n",
    "}\n",
    "\n",
    "# Convert the dictionary to a DataFrame\n",
    "merged_info = pd.DataFrame(info_dict)\n",
    "\n",
    "# Display the merged DataFrame\n",
    "print(\"Merged Information:\")\n",
    "display(merged_info)\n"
   ]
  },
  {
   "cell_type": "code",
   "execution_count": null,
   "metadata": {},
   "outputs": [],
   "source": [
    "\n",
    "# Correlation matrix for numerical columns\n",
    "numeric_columns = user_dataset.select_dtypes(include=['int64', 'float64'])\n",
    "\n",
    "# Correlation matrix for numeric columns\n",
    "correlation_matrix = numeric_columns.corr()\n",
    "\n",
    "# Display the correlation matrix\n",
    "print(\"\\nCorrelation Matrix for Numeric Columns:\")\n",
    "display(correlation_matrix)\n"
   ]
  },
  {
   "cell_type": "code",
   "execution_count": null,
   "metadata": {},
   "outputs": [],
   "source": [
    "import pandas as pd\n",
    "from sklearn.preprocessing import OneHotEncoder\n",
    "\n",
    "# Function to one-hot encode columns with less than 50% unique values\n",
    "def one_hot_encode_low_unique_columns(df, threshold=0.5):\n",
    "    low_unique_columns = []\n",
    "    for column in df.columns:\n",
    "        if df[column].nunique() / df[column].count() < threshold:\n",
    "            low_unique_columns.append(column)\n",
    "    categorical_columns = df[low_unique_columns].select_dtypes(include=['object'])\n",
    "    encoder = OneHotEncoder(drop='first')\n",
    "    encoded_categorical = encoder.fit_transform(categorical_columns)\n",
    "    encoded_categorical_df = pd.DataFrame.sparse.from_spmatrix(encoded_categorical, columns=encoder.get_feature_names_out(categorical_columns.columns))\n",
    "    return encoded_categorical_df\n",
    "\n",
    "# Step 1: Encode columns with less than 50% unique values\n",
    "encoded_low_unique_df = one_hot_encode_low_unique_columns(user_dataset)\n",
    "\n",
    "# Step 2: Concatenate encoded categorical variables with numerical columns\n",
    "numeric_columns = user_dataset.select_dtypes(include=['int64', 'float64'])\n",
    "all_data = pd.concat([numeric_columns.reset_index(drop=True), encoded_low_unique_df.reset_index(drop=True)], axis=1)\n",
    "\n",
    "# Step 3: Correlation matrix for all columns\n",
    "correlation_matrix = all_data.corr()\n",
    "\n",
    "# Display the correlation matrix\n",
    "print(\"\\nCorrelation Matrix for All Columns:\")\n",
    "display(correlation_matrix)\n"
   ]
  },
  {
   "cell_type": "code",
   "execution_count": null,
   "metadata": {},
   "outputs": [],
   "source": []
  }
 ],
 "metadata": {
  "kernelspec": {
   "display_name": "Python 3",
   "language": "python",
   "name": "python3"
  },
  "language_info": {
   "codemirror_mode": {
    "name": "ipython",
    "version": 3
   },
   "file_extension": ".py",
   "mimetype": "text/x-python",
   "name": "python",
   "nbconvert_exporter": "python",
   "pygments_lexer": "ipython3",
   "version": "3.11.8"
  }
 },
 "nbformat": 4,
 "nbformat_minor": 2
}
